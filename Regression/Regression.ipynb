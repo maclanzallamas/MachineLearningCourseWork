{
 "cells": [
  {
   "cell_type": "code",
   "execution_count": 9,
   "metadata": {},
   "outputs": [],
   "source": [
    "import numpy as np\n",
    "\n",
    "\n",
    "# Load training and testing data\n",
    "X_train = np.loadtxt('X_train.csv', delimiter=',', skiprows=1)\n",
    "X_test = np.loadtxt('X_test.csv', delimiter=',', skiprows=1)\n",
    "y_train = np.loadtxt('y_train.csv', delimiter=',', skiprows=1)[:,1]\n",
    "\n",
    "\n",
    "# Fit model and predict test values\n",
    "#y_pred = np.random.randint(y_train.min(), y_train.max(), X_test.shape[0])\n",
    "\n",
    "# Arrange answer in two columns. First column (with header \"Id\") is an\n",
    "# enumeration from 0 to n-1, where n is the number of test points. Second\n",
    "# column (with header \"EpiOrStroma\" is the predictions.\n",
    "#test_header = \"Id,PRP\"\n",
    "#n_points = X_test.shape[0]\n",
    "#y_pred_pp = np.ones((n_points, 2))\n",
    "#y_pred_pp[:, 0] = range(n_points)\n",
    "#y_pred_pp[:, 1] = y_pred\n",
    "#np.savetxt('my_submission.csv', y_pred_pp, fmt='%d,%f', delimiter=\",\",\n",
    "#           header=test_header, comments=\"\")\n",
    "\n",
    "# Note: fmt='%d' denotes that all values should be formatted as integers which\n",
    "# is appropriate for classification. For regression, where the second column\n",
    "# should be floating point, use fmt='%d,%f'.\n",
    "    "
   ]
  },
  {
   "cell_type": "markdown",
   "metadata": {},
   "source": [
    "Note that it might be a good idea to transform one or more features into new features using basis functions. \n",
    "For instance, could the minimum and maximum memory features meaningfully be combined to one?"
   ]
  },
  {
   "cell_type": "code",
   "execution_count": 11,
   "metadata": {},
   "outputs": [
    {
     "data": {
      "text/plain": [
       "numpy.ndarray"
      ]
     },
     "execution_count": 11,
     "metadata": {},
     "output_type": "execute_result"
    }
   ],
   "source": [
    "type(y_train)"
   ]
  },
  {
   "cell_type": "code",
   "execution_count": 13,
   "metadata": {},
   "outputs": [],
   "source": [
    "#Reshape ytrain to be two columns\n",
    "ytrain = np.reshape(y_train,(len(y_train),1))"
   ]
  },
  {
   "cell_type": "code",
   "execution_count": 34,
   "metadata": {},
   "outputs": [],
   "source": [
    "#Create variables for each feature\n",
    "MYCT = []\n",
    "MMIN = []\n",
    "MMAX = []\n",
    "CACH = []\n",
    "CHMIN = []\n",
    "CHMAX = []\n",
    "for i in range(len(X_train)):\n",
    "    MYCT.append(X_train[i][0])\n",
    "    MMIN.append(X_train[i][1])\n",
    "    MMAX.append(X_train[i][2])\n",
    "    CACH.append(X_train[i][3])\n",
    "    CHMIN.append(X_train[i][4])\n",
    "    CHMAX.append(X_train[i][5])"
   ]
  },
  {
   "cell_type": "code",
   "execution_count": 37,
   "metadata": {},
   "outputs": [
    {
     "data": {
      "text/plain": [
       "168"
      ]
     },
     "execution_count": 37,
     "metadata": {},
     "output_type": "execute_result"
    }
   ],
   "source": [
    "len(CHMAX)"
   ]
  },
  {
   "cell_type": "code",
   "execution_count": null,
   "metadata": {
    "collapsed": true
   },
   "outputs": [],
   "source": []
  }
 ],
 "metadata": {
  "kernelspec": {
   "display_name": "Python 3",
   "language": "python",
   "name": "python3"
  },
  "language_info": {
   "codemirror_mode": {
    "name": "ipython",
    "version": 3
   },
   "file_extension": ".py",
   "mimetype": "text/x-python",
   "name": "python",
   "nbconvert_exporter": "python",
   "pygments_lexer": "ipython3",
   "version": "3.6.1"
  }
 },
 "nbformat": 4,
 "nbformat_minor": 2
}
